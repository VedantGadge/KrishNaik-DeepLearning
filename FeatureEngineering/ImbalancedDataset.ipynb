{
 "cells": [
  {
   "cell_type": "markdown",
   "id": "106caf71",
   "metadata": {},
   "source": [
    "## __Imbalanced Dataset Handling__"
   ]
  },
  {
   "cell_type": "markdown",
   "id": "e7811ccd",
   "metadata": {},
   "source": [
    "#### Imbalanced dataset will result into a biased model , eg. if we have a binary classification model on a dataset with 1000 datapoints , 900 YES and 100 NO , the model wil be biased towards YES. \n",
    "#### There are two methods to handle this:"
   ]
  },
  {
   "cell_type": "markdown",
   "id": "94bd47fe",
   "metadata": {},
   "source": [
    "### 1- **Up Sampling**\n",
    "#### We increase the no of datapoints of the minority.  "
   ]
  },
  {
   "cell_type": "code",
   "execution_count": 5,
   "id": "5377f152",
   "metadata": {},
   "outputs": [],
   "source": [
    "import numpy as np\n",
    "import pandas as pd\n",
    "\n",
    "## Setting the random seed , so whenever we use random , the nos. dont change\n",
    "np.random.seed(123) \n",
    "\n",
    "## Create a dataframe with two classes\n",
    "n_samples = 1000\n",
    "class_0_ratio = 0.9\n",
    "n_class_0 = int(n_samples * class_0_ratio)\n",
    "n_class_1 = n_samples - n_class_0"
   ]
  },
  {
   "cell_type": "code",
   "execution_count": 6,
   "id": "f3ba86dd",
   "metadata": {},
   "outputs": [
    {
     "data": {
      "text/plain": [
       "(900, 100)"
      ]
     },
     "execution_count": 6,
     "metadata": {},
     "output_type": "execute_result"
    }
   ],
   "source": [
    "n_class_0,n_class_1"
   ]
  },
  {
   "cell_type": "code",
   "execution_count": 7,
   "id": "e4a3c301",
   "metadata": {},
   "outputs": [],
   "source": [
    "## Create dataframe with imbalanced dataset\n",
    "\n",
    "class_0 = pd.DataFrame({\n",
    "    'feature_1': np.random.normal(loc = 0 , scale = 1 , size = n_class_0),\n",
    "    'feature_2': np.random.normal(loc = 0 , scale = 1 , size = n_class_0),\n",
    "    'target': [0]*n_class_0\n",
    "})\n",
    "\n",
    "class_1 = pd.DataFrame({\n",
    "    'feature_1': np.random.normal(loc = 2 , scale = 1 , size = n_class_1),\n",
    "    'feature_2': np.random.normal(loc = 2 , scale = 1 , size = n_class_1),\n",
    "    'target': [1]*n_class_1\n",
    "})"
   ]
  },
  {
   "cell_type": "code",
   "execution_count": 9,
   "id": "c26eee0c",
   "metadata": {},
   "outputs": [],
   "source": [
    "df= pd.concat([class_0,class_1]).reset_index(drop=True)"
   ]
  },
  {
   "cell_type": "code",
   "execution_count": 10,
   "id": "978aaced",
   "metadata": {},
   "outputs": [
    {
     "data": {
      "application/vnd.microsoft.datawrangler.viewer.v0+json": {
       "columns": [
        {
         "name": "target",
         "rawType": "int64",
         "type": "integer"
        },
        {
         "name": "count",
         "rawType": "int64",
         "type": "integer"
        }
       ],
       "ref": "c66ce031-1159-4dd4-9f60-f96e8839b833",
       "rows": [
        [
         "0",
         "900"
        ],
        [
         "1",
         "100"
        ]
       ],
       "shape": {
        "columns": 1,
        "rows": 2
       }
      },
      "text/plain": [
       "target\n",
       "0    900\n",
       "1    100\n",
       "Name: count, dtype: int64"
      ]
     },
     "execution_count": 10,
     "metadata": {},
     "output_type": "execute_result"
    }
   ],
   "source": [
    "df['target'].value_counts()"
   ]
  },
  {
   "cell_type": "code",
   "execution_count": 12,
   "id": "92156aac",
   "metadata": {},
   "outputs": [],
   "source": [
    "df_minority = df[df['target']==1]\n",
    "df_majority = df[df['target']==0]"
   ]
  },
  {
   "cell_type": "code",
   "execution_count": null,
   "id": "79a84ef8",
   "metadata": {},
   "outputs": [],
   "source": [
    "from sklearn.utils import resample\n",
    "df_miority_upsampled = resample(df_minority, replace=True , #Sample with replacement\n",
    "         n_samples=len(df_majority),\n",
    "         random_state=42\n",
    "         )"
   ]
  }
 ],
 "metadata": {
  "kernelspec": {
   "display_name": "Python 3",
   "language": "python",
   "name": "python3"
  },
  "language_info": {
   "codemirror_mode": {
    "name": "ipython",
    "version": 3
   },
   "file_extension": ".py",
   "mimetype": "text/x-python",
   "name": "python",
   "nbconvert_exporter": "python",
   "pygments_lexer": "ipython3",
   "version": "3.11.4"
  }
 },
 "nbformat": 4,
 "nbformat_minor": 5
}
