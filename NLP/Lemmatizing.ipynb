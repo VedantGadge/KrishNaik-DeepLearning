{
 "cells": [
  {
   "cell_type": "markdown",
   "id": "3a0e9834",
   "metadata": {},
   "source": [
    "## Wordnet Lemmatizer"
   ]
  },
  {
   "cell_type": "code",
   "execution_count": 1,
   "id": "de2320a7",
   "metadata": {},
   "outputs": [
    {
     "name": "stderr",
     "output_type": "stream",
     "text": [
      "[nltk_data] Downloading package wordnet to\n",
      "[nltk_data]     C:\\Users\\Welcome\\AppData\\Roaming\\nltk_data...\n"
     ]
    }
   ],
   "source": [
    "from nltk.stem import WordNetLemmatizer\n",
    "import nltk\n",
    "nltk.download('wordnet')\n",
    "lemmatizer = WordNetLemmatizer()\n",
    "## wordnet is basically a dictionary of all the words \n",
    "# over which WordNetLemmatizer is a wrapper fn to get the root word."
   ]
  },
  {
   "cell_type": "code",
   "execution_count": 2,
   "id": "a53c1893",
   "metadata": {},
   "outputs": [
    {
     "data": {
      "text/plain": [
       "'go'"
      ]
     },
     "execution_count": 2,
     "metadata": {},
     "output_type": "execute_result"
    }
   ],
   "source": [
    "'''\n",
    "diff pos tags:\n",
    "verb - v\n",
    "noun - n\n",
    "adjective - a\n",
    "adverb - r\n",
    "'''\n",
    "# By default pos tag is n\n",
    "lemmatizer.lemmatize('going' , pos = 'v')"
   ]
  },
  {
   "cell_type": "code",
   "execution_count": 3,
   "id": "44ecfc7e",
   "metadata": {},
   "outputs": [
    {
     "name": "stdout",
     "output_type": "stream",
     "text": [
      "eating--->eat\n",
      "eats--->eat\n",
      "eaten--->eat\n",
      "writing--->write\n",
      "writes--->write\n",
      "programming--->program\n",
      "programs--->program\n",
      "history--->history\n",
      "finally--->finally\n",
      "finalized--->finalize\n"
     ]
    }
   ],
   "source": [
    "words = ['eating','eats','eaten','writing','writes','programming','programs','history','finally','finalized']\n",
    "\n",
    "for word in words:\n",
    "    print(word + '--->' + lemmatizer.lemmatize(word , pos = 'v'))"
   ]
  }
 ],
 "metadata": {
  "kernelspec": {
   "display_name": "myenv",
   "language": "python",
   "name": "python3"
  },
  "language_info": {
   "codemirror_mode": {
    "name": "ipython",
    "version": 3
   },
   "file_extension": ".py",
   "mimetype": "text/x-python",
   "name": "python",
   "nbconvert_exporter": "python",
   "pygments_lexer": "ipython3",
   "version": "3.13.5"
  }
 },
 "nbformat": 4,
 "nbformat_minor": 5
}
