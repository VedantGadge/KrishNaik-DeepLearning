{
 "cells": [
  {
   "cell_type": "code",
   "execution_count": 8,
   "id": "78067f50",
   "metadata": {},
   "outputs": [],
   "source": [
    "sentence=\"The Eiffel Tower was built from 1887 to 1889 by Gustave Eiffel, whose company specialized in building metal frameworks and structures.\""
   ]
  },
  {
   "cell_type": "code",
   "execution_count": 12,
   "id": "fdb752d1",
   "metadata": {},
   "outputs": [],
   "source": [
    "# Download required NLTK data\n",
    "import os\n",
    "import nltk\n",
    "\n",
    "# Optional: use a local nltk_data directory if it exists (keeps data inside the repo)\n",
    "_local_nltk_dir = r\"e:\\VG Codes\\DeepLearning\\KrishNaik-DeepLearning\\NLP\\nltk_data\"\n",
    "if os.path.isdir(_local_nltk_dir):\n",
    "    if _local_nltk_dir not in nltk.data.path:\n",
    "        nltk.data.path.insert(0, _local_nltk_dir)\n",
    "\n",
    "# Tokenizer + POS taggers (newer NLTK splits some resources into *_tab variants)\n",
    "nltk.download('punkt', quiet=True)\n",
    "nltk.download('punkt_tab', quiet=True)\n",
    "\n",
    "# POS tagger (language-specific)\n",
    "nltk.download('averaged_perceptron_tagger', quiet=True)\n",
    "nltk.download('averaged_perceptron_tagger_eng', quiet=True)\n",
    "\n",
    "# Named Entity Chunker models (tabulated models required by newer nltk)\n",
    "nltk.download('maxent_ne_chunker', quiet=True)\n",
    "nltk.download('maxent_ne_chunker_tab', quiet=True)\n",
    "\n",
    "# Supporting word list for NE chunker\n",
    "nltk.download('words', quiet=True)\n",
    "\n",
    "words = nltk.word_tokenize(sentence)"
   ]
  },
  {
   "cell_type": "code",
   "execution_count": 10,
   "id": "0f194df4",
   "metadata": {},
   "outputs": [
    {
     "name": "stdout",
     "output_type": "stream",
     "text": [
      "POS Tags:\n",
      "[('The', 'DT'), ('Eiffel', 'NNP'), ('Tower', 'NNP'), ('was', 'VBD'), ('built', 'VBN'), ('from', 'IN'), ('1887', 'CD'), ('to', 'TO'), ('1889', 'CD'), ('by', 'IN'), ('Gustave', 'NNP'), ('Eiffel', 'NNP'), (',', ','), ('whose', 'WP$'), ('company', 'NN'), ('specialized', 'VBD'), ('in', 'IN'), ('building', 'NN'), ('metal', 'NN'), ('frameworks', 'NNS'), ('and', 'CC'), ('structures', 'NNS'), ('.', '.')]\n"
     ]
    }
   ],
   "source": [
    "# Part-of-speech tagging\n",
    "tag_elements = nltk.pos_tag(words)\n",
    "print(\"POS Tags:\")\n",
    "print(tag_elements)"
   ]
  },
  {
   "cell_type": "code",
   "execution_count": 14,
   "id": "b9947810",
   "metadata": {},
   "outputs": [
    {
     "name": "stdout",
     "output_type": "stream",
     "text": [
      "Named Entities (linearized tree):\n",
      "(S\n",
      "  The/DT\n",
      "  (ORGANIZATION Eiffel/NNP Tower/NNP)\n",
      "  was/VBD\n",
      "  built/VBN\n",
      "  from/IN\n",
      "  1887/CD\n",
      "  to/TO\n",
      "  1889/CD\n",
      "  by/IN\n",
      "  (PERSON Gustave/NNP Eiffel/NNP)\n",
      "  ,/,\n",
      "  whose/WP$\n",
      "  company/NN\n",
      "  specialized/VBD\n",
      "  in/IN\n",
      "  building/NN\n",
      "  metal/NN\n",
      "  frameworks/NNS\n",
      "  and/CC\n",
      "  structures/NNS\n",
      "  ./.)\n",
      "\n",
      "Named Entities (ASCII tree):\n",
      "                                                                                             S                                                                                                                                           \n",
      "   __________________________________________________________________________________________|____________________________________________________________________________________________________________________________                \n",
      "  |       |        |        |       |      |      |      |    |      |         |             |          |        |         |           |          |          |         |             ORGANIZATION                       PERSON           \n",
      "  |       |        |        |       |      |      |      |    |      |         |             |          |        |         |           |          |          |         |       ___________|___________            ________|________       \n",
      "The/DT was/VBD built/VBN from/IN 1887/CD to/TO 1889/CD by/IN ,/, whose/WP$ company/NN specialized/VBD in/IN building/NN metal/NN frameworks/NNS and/CC structures/NNS ./. Eiffel/NNP              Tower/NNP Gustave/NNP        Eiffel/NNP\n",
      "\n",
      "\n",
      "Extracted entities:\n",
      "ORGANIZATION: Eiffel Tower\n",
      "PERSON: Gustave Eiffel\n"
     ]
    }
   ],
   "source": [
    "# Named Entity Recognition\n",
    "chunk_tree = nltk.ne_chunk(tag_elements)\n",
    "\n",
    "print(\"Named Entities (linearized tree):\")\n",
    "print(chunk_tree)  # Avoids SVG rendering; prints plain text\n",
    "\n",
    "print(\"\\nNamed Entities (ASCII tree):\")\n",
    "try:\n",
    "    chunk_tree.pretty_print()  # ASCII art tree in terminal/output\n",
    "except Exception as e:\n",
    "    # Fallback to bracketed representation if pretty_print fails\n",
    "    chunk_tree.pprint()\n",
    "\n",
    "# Extract entities into (label, text) pairs\n",
    "entities = []\n",
    "for subtree in chunk_tree.subtrees():\n",
    "    label = subtree.label() if hasattr(subtree, 'label') else None\n",
    "    if label and label not in {\"S\"}:  # skip top-level sentence node\n",
    "        entity_text = \" \".join(tok for tok, pos in subtree.leaves())\n",
    "        entities.append((label, entity_text))\n",
    "\n",
    "print(\"\\nExtracted entities:\")\n",
    "for label, text in entities:\n",
    "    print(f\"{label}: {text}\")"
   ]
  }
 ],
 "metadata": {
  "kernelspec": {
   "display_name": "myenv",
   "language": "python",
   "name": "python3"
  },
  "language_info": {
   "codemirror_mode": {
    "name": "ipython",
    "version": 3
   },
   "file_extension": ".py",
   "mimetype": "text/x-python",
   "name": "python",
   "nbconvert_exporter": "python",
   "pygments_lexer": "ipython3",
   "version": "3.13.5"
  }
 },
 "nbformat": 4,
 "nbformat_minor": 5
}
